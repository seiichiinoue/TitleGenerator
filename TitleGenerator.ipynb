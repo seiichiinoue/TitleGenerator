{
 "cells": [
  {
   "cell_type": "markdown",
   "metadata": {},
   "source": [
    "## シュタゲ風タイトルジェネレータ\n",
    "---"
   ]
  },
  {
   "cell_type": "code",
   "execution_count": 1,
   "metadata": {},
   "outputs": [],
   "source": [
    "import numpy as np\n",
    "import MeCab\n",
    "from gensim.models import word2vec"
   ]
  },
  {
   "cell_type": "code",
   "execution_count": 2,
   "metadata": {},
   "outputs": [],
   "source": [
    "model = word2vec.Word2Vec.load(\"./latest-ja-word2vec-gensim-model/word2vec.gensim.model\")"
   ]
  },
  {
   "cell_type": "code",
   "execution_count": 3,
   "metadata": {},
   "outputs": [],
   "source": [
    "# 中二病コーパスリストを準備\n",
    "cps = [\"アイデンティティ\",\"アルケー\",\"アンチノミー\",\"ウロボロス\",\"ヴァルハラ\",\"カタルシス\",\"クライシス\",\"サザンクロス\",\"サンクチュアリ\",\"シニカル\",\"ジェネシス\",\"ジェイド\",\"タリスマン\",\"デイズ\",\"ディーヴァ\",\"パルス\",\"プラトニック\",\"プリマドンナ\",\"ミラージュ\",\"メモワール\",\"メロウ\",\"ユグドラシル\",\"リフレイン\",\"リリカル\",\"メシア\",\"アビス\",\"アポカリプス\",\"ヴォイド\",\"オーメン\",\"サタン\",\"シンドローム\",\"スーパーノヴァ\",\"ドッペルゲンガー\",\"ナイトメア\",\"ネクロマンサー\",\"パラノイア\",\"ファントム\",\"ブラッディ\",\"ヘルヘイム\",\"マリオネット\",\"メランコリー\",\"ラビリンス\",\"ルナティック\",\"ルシフェル\",\"レクイエム\"]"
   ]
  },
  {
   "cell_type": "code",
   "execution_count": 5,
   "metadata": {},
   "outputs": [],
   "source": [
    "# 形態素解析準備\n",
    "t = MeCab.Tagger(\"-Ochasen\")"
   ]
  },
  {
   "cell_type": "code",
   "execution_count": 6,
   "metadata": {},
   "outputs": [],
   "source": [
    "# テキストのベクトルを計算\n",
    "def get_vector(text):\n",
    "    sum_vec = np.zeros(50)\n",
    "    word_count = 0\n",
    "    node = t.parseToNode(text)\n",
    "    while node:\n",
    "        fields = node.feature.split(\",\")\n",
    "        # 名詞，動詞，形容詞に限定\n",
    "        if fields[0] == '名詞' or fields[0] == '動詞' or fields[0] == '形容詞':\n",
    "            sum_vec += model.wv[node.surface]\n",
    "            word_count += 1\n",
    "        node = node.next\n",
    "\n",
    "    return sum_vec / word_count\n",
    "\n",
    "\n",
    "# cos類似度を計算\n",
    "def cos_sim(v1, v2):\n",
    "    return np.dot(v1, v2) / (np.linalg.norm(v1) * np.linalg.norm(v2))\n"
   ]
  },
  {
   "cell_type": "code",
   "execution_count": 7,
   "metadata": {},
   "outputs": [],
   "source": [
    "def TitleGenerator(text: str):\n",
    "    # 入力文字列のベクトル化\n",
    "    v_text = get_vector(text)\n",
    "    \n",
    "    # 中二病横文字から一番マッチする文字列を返す\n",
    "    result_str = \"\"\n",
    "    result_vec = 0\n",
    "\n",
    "    for s in cps:\n",
    "        cs = cos_sim(get_vector(s), v_text)\n",
    "        if cs > result_vec:\n",
    "            result_vec = cs\n",
    "            result_str = s\n",
    "    return \"{}の{}\".format(text, result_str)"
   ]
  },
  {
   "cell_type": "code",
   "execution_count": 8,
   "metadata": {},
   "outputs": [
    {
     "data": {
      "text/plain": [
       "'永遠不滅のカタルシス'"
      ]
     },
     "execution_count": 8,
     "metadata": {},
     "output_type": "execute_result"
    }
   ],
   "source": [
    "TitleGenerator(\"永遠不滅\")"
   ]
  },
  {
   "cell_type": "code",
   "execution_count": 9,
   "metadata": {},
   "outputs": [
    {
     "data": {
      "text/plain": [
       "'虚像歪曲のカタルシス'"
      ]
     },
     "execution_count": 9,
     "metadata": {},
     "output_type": "execute_result"
    }
   ],
   "source": [
    "TitleGenerator(\"虚像歪曲\")"
   ]
  },
  {
   "cell_type": "code",
   "execution_count": 10,
   "metadata": {},
   "outputs": [
    {
     "data": {
      "text/plain": [
       "'怨嗟断絶のメシア'"
      ]
     },
     "execution_count": 10,
     "metadata": {},
     "output_type": "execute_result"
    }
   ],
   "source": [
    "TitleGenerator(\"怨嗟断絶\")"
   ]
  }
 ],
 "metadata": {
  "kernelspec": {
   "display_name": "Python 3",
   "language": "python",
   "name": "python3"
  },
  "language_info": {
   "codemirror_mode": {
    "name": "ipython",
    "version": 3
   },
   "file_extension": ".py",
   "mimetype": "text/x-python",
   "name": "python",
   "nbconvert_exporter": "python",
   "pygments_lexer": "ipython3",
   "version": "3.6.5"
  }
 },
 "nbformat": 4,
 "nbformat_minor": 2
}
